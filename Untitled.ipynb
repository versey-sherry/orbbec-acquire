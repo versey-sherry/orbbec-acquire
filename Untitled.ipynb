{
 "cells": [
  {
   "cell_type": "code",
   "execution_count": 5,
   "id": "962a58da",
   "metadata": {},
   "outputs": [
    {
     "name": "stdout",
     "output_type": "stream",
     "text": [
      "meow\n",
      "meow\n",
      "meow\n",
      "meow\n",
      "meow\n",
      "meow\n",
      "woof\n",
      "yay\n"
     ]
    }
   ],
   "source": [
    "try:\n",
    "    count = 0\n",
    "    while count <10:\n",
    "        print('meow')\n",
    "        if count ==5:\n",
    "            print(1/0)\n",
    "        count+=1\n",
    "            \n",
    "    \n",
    "except ZeroDivisionError:\n",
    "    print('woof')\n",
    "finally:\n",
    "    print('yay')"
   ]
  },
  {
   "cell_type": "code",
   "execution_count": 7,
   "id": "490f4ea1",
   "metadata": {},
   "outputs": [
    {
     "data": {
      "text/plain": [
       "5.005650997161865"
      ]
     },
     "execution_count": 7,
     "metadata": {},
     "output_type": "execute_result"
    }
   ],
   "source": [
    "import time\n",
    "start_time = time.time()\n",
    "time.sleep(5)\n",
    "time.time()-start_time"
   ]
  },
  {
   "cell_type": "code",
   "execution_count": null,
   "id": "faaccd23",
   "metadata": {},
   "outputs": [],
   "source": []
  }
 ],
 "metadata": {
  "kernelspec": {
   "display_name": "Python 3",
   "language": "python",
   "name": "python3"
  },
  "language_info": {
   "codemirror_mode": {
    "name": "ipython",
    "version": 3
   },
   "file_extension": ".py",
   "mimetype": "text/x-python",
   "name": "python",
   "nbconvert_exporter": "python",
   "pygments_lexer": "ipython3",
   "version": "3.7.12"
  }
 },
 "nbformat": 4,
 "nbformat_minor": 5
}
